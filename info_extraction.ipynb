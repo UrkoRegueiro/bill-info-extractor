{
 "cells": [
  {
   "cell_type": "markdown",
   "id": "4d08d9de-4d58-4547-b2dc-5ef1e1bf92c8",
   "metadata": {},
   "source": [
    "<div style=\"position: relative; text-align: center;\">\n",
    "  <img src=\"imagenes/portada.png\" alt=\"INE\" width=\"50%\">\n",
    "</div> <br><br>\n",
    "\n",
    "\n",
    "<p style=\"text-align: center; font-size: 20px;\"><u>ÍNDICE</u></p>\n",
    "\n",
    "<span style=\"font-size: 20px;\">\n",
    "\n",
    "1. **Introducción**\n",
    "\n",
    "2. **Importación de paquetes**<br>\n",
    "\n",
    "3. **Funciones**<br>\n",
    "&nbsp;&nbsp;&nbsp;&nbsp;&nbsp;&nbsp;&nbsp;3.1. Función de limpieza<br>\n",
    "&nbsp;&nbsp;&nbsp;&nbsp;&nbsp;&nbsp;&nbsp;3.2. Funcion de inicialización<br>\n",
    "&nbsp;&nbsp;&nbsp;&nbsp;&nbsp;&nbsp;&nbsp;3.3. Función de extracción de información<br>\n",
    "&nbsp;&nbsp;&nbsp;&nbsp;&nbsp;&nbsp;&nbsp;3.4. Función para el cálculo de la distancia de Levenshtein<br>\n",
    "&nbsp;&nbsp;&nbsp;&nbsp;&nbsp;&nbsp;&nbsp;3.5. Función para el cálculo del score<br>\n",
    "&nbsp;&nbsp;&nbsp;&nbsp;&nbsp;&nbsp;&nbsp;3.6. Función para el cálculo del score total<br>\n",
    "\n",
    "\n",
    "\n",
    "5.  **Proceso de extracción de información**<br>\n",
    "&nbsp;&nbsp;&nbsp;&nbsp;&nbsp;&nbsp;&nbsp;4.1. Inicializo variables<br>\n",
    "&nbsp;&nbsp;&nbsp;&nbsp;&nbsp;&nbsp;&nbsp;4.2. Extracción de información<br>\n",
    "\n",
    "6. **Comprobación de resultados**<br>\n",
    "\n",
    "</span>"
   ]
  },
  {
   "cell_type": "markdown",
   "id": "ec0fc9ef-8b08-4f4e-8b0b-16dcbc98761f",
   "metadata": {},
   "source": [
    "# 1. Introducción\n",
    "\n",
    "<span style=\"font-size: 20px;\">\n",
    "\n",
    "El presente proyecto tratará de extraer información relevante de faturas de luz. Para ello se presentan diferentes modelos de facturas en formato PDF que, mediante el método empleado de extracción de información, esta se guardará en archivos con formato JSON.\n",
    "\n",
    "El método empleado para la extracción de información ha sido la utilización de un LLM junto con la librería Kor. Esta librería nos permite crear un esquema(*véase Apéndice 1.*) para especificar que información debe ser extraida, generando un prompt que mandará a nuestro LLM.\n",
    "Los archivos PDF se han leido con la librería Pypdf y el texto se ha limpiado bajo criterio personal, pudiendo mejorarse.\n",
    "\n",
    "Este método puede implementarse utilizando LLM's open source como LLaMa 3, haciendo un finetuning(*véase Apéndice 2.*) con los datos de entrenamiento y aplicando el mismo procedimiento. No se ha realizado en este caso por carecer de procesamiento suficiente, por lo que se ha optado por el modelo 'gpt-3.5-turbo' de OPENAI.\n",
    "\n",
    "Se han comparado los resultados obtenidos entre el modelo 'gpt-3.5-turbo' y el modelo LLaMa 3-70b(a traves de GROQ), obteniendo prácticamente identicos resultados.\n",
    "\n",
    "</span>"
   ]
  },
  {
   "cell_type": "markdown",
   "id": "c190afa5-100c-4522-b14d-830cd42d5285",
   "metadata": {},
   "source": [
    "# 2. Importación de paquetes"
   ]
  },
  {
   "cell_type": "code",
   "execution_count": 21,
   "id": "b009712d-618a-47c4-b8c7-241219507f93",
   "metadata": {},
   "outputs": [
    {
     "data": {
      "text/plain": [
       "True"
      ]
     },
     "execution_count": 21,
     "metadata": {},
     "output_type": "execute_result"
    }
   ],
   "source": [
    "import os\n",
    "import glob\n",
    "import json\n",
    "import pickle\n",
    "import pprint\n",
    "from tqdm import tqdm\n",
    "\n",
    "import re\n",
    "from pypdf import PdfReader\n",
    "\n",
    "from langchain_openai import ChatOpenAI\n",
    "from langchain_groq import ChatGroq\n",
    "from kor.extraction import create_extraction_chain\n",
    "\n",
    "from dotenv import load_dotenv\n",
    "load_dotenv()"
   ]
  },
  {
   "cell_type": "markdown",
   "id": "00a21ce0-e20e-4f03-837c-5297738f6d69",
   "metadata": {},
   "source": [
    "<span style=\"font-size: 20px;\">\n",
    "\n",
    "- <u>*kor*</u> [(Documentación)](https://eyurtsev.github.io/kor/#)\n",
    "  \n",
    "    ```\n",
    "    Librería para extraer información estructurada de texto usando LLM's\n",
    "    ```\n",
    "    <br>\n",
    "    \n",
    "- <u>*create_extraction_chain*</u> [(documentación)](https://github.com/eyurtsev/kor/blob/main/kor/extraction/api.py):\n",
    "\n",
    "    ```\n",
    "    Cadena para la extracción de informacion con llm's\n",
    "    ```\n",
    "<img src=\"imagenes/extraction_chain.png\" alt=\"INE\" width=\"35%\">\n",
    "\n",
    "<br>\n",
    "\n",
    "\n",
    "- <u>*BaseLanguageModel*</u> [(documentación)](https://github.com/langchain-ai/langchain/blob/master/libs/core/langchain_core/language_models/base.py):\n",
    "  \n",
    "    ```\n",
    "    Clase para interactuar con los llm\n",
    "    ```\n",
    "\n",
    "</span>/span>"
   ]
  },
  {
   "cell_type": "markdown",
   "id": "ca9bcd6b-88b2-41b5-8382-abd0bdc531cc",
   "metadata": {},
   "source": [
    "# 3. Funciones"
   ]
  },
  {
   "cell_type": "markdown",
   "id": "7b7fd700-107e-48cc-a63c-e12da9b2ebe6",
   "metadata": {},
   "source": [
    "## 3.1. Función de limpieza"
   ]
  },
  {
   "cell_type": "code",
   "execution_count": 6,
   "id": "463eff8d-7759-4d85-bd6f-904a25332357",
   "metadata": {},
   "outputs": [],
   "source": [
    "def bill_cleaner(path):\n",
    "\n",
    "    \"\"\"\n",
    "    Función que devuelve el texto procesado de una factura.\n",
    "\n",
    "    Input:\n",
    "        - path(str): Ruta de la factura.pdf\n",
    "    \n",
    "    Output:\n",
    "        - texto_limpio (str)\n",
    "    \n",
    "    \"\"\"\n",
    "\n",
    "    factura = PdfReader(path)\n",
    "    \n",
    "    texto_factura = \"\"\n",
    "    for pagina in factura.pages:\n",
    "        texto_factura += pagina.extract_text()\n",
    "    \n",
    "    # Elimino hiperlinks:\n",
    "    texto_limpio = re.sub(r'\\b(?:http://|https://|www\\.)?\\S+(?:-|\\s)?\\S*?(?:\\.com|\\.es)\\b', \"\", texto_factura).strip()\n",
    "    \n",
    "    # Elimino conjuntos de puntos mayores a 1:\n",
    "    texto_limpio = re.sub(r'\\.{2,}', \"\", texto_limpio).strip()\n",
    "    \n",
    "    # Elimino espacios multiples en blanco y saltos de linea:\n",
    "    texto_limpio = re.sub(r\"\\s+\", \" \", texto_limpio)\n",
    "\n",
    "    return texto_limpio"
   ]
  },
  {
   "cell_type": "markdown",
   "id": "1b950551-3bbf-45f0-aa6b-8e48f48a68f7",
   "metadata": {},
   "source": [
    "## 3.2. Funcion de inicialización"
   ]
  },
  {
   "cell_type": "code",
   "execution_count": 7,
   "id": "477d7f8f-b2f0-478c-8376-97b77d075c3a",
   "metadata": {},
   "outputs": [],
   "source": [
    "def inicializar():\n",
    "\n",
    "    data_path = input(\"Introduce la ruta donde se encuentran las facturas de las que deseas extraer información: \")\n",
    "\n",
    "    model = input(\"Selecciona el modelo que deseas usar: || gpt-3.5-turbo (1) || LLaMa 3-70b(2) ||: \")\n",
    "\n",
    "    if model == \"1\":\n",
    "        nombre = input(\"Introduce el nombre asociado a la API key de OPENAI que aparece en tu archivo .ENV: \")\n",
    "        api_key = os.getenv(nombre)\n",
    "    if model == \"2\":\n",
    "        nombre = input(\"Introduce el nombre asociado a la API key de GROQ que aparece en tu archivo .ENV: \")\n",
    "        api_key = os.getenv(nombre)\n",
    "\n",
    "    return data_path, model, api_key"
   ]
  },
  {
   "cell_type": "markdown",
   "id": "d12b5f9c-ab1d-4ab4-9d5e-891733daa5f0",
   "metadata": {},
   "source": [
    "## 3.3. Función de extracción de información"
   ]
  },
  {
   "cell_type": "code",
   "execution_count": 8,
   "id": "fd7ec5f7-d10f-4eb0-a0c2-cef0a305fe0c",
   "metadata": {},
   "outputs": [],
   "source": [
    "def information_extractor(path, model, api_key):\n",
    "\n",
    "    \"\"\"\n",
    "    Función que extrae la información requerida de una factura de luz guardandola en formato JSON.\n",
    "\n",
    "    Input:\n",
    "        - path(str): Ruta donde se alojan las factura en formato PDF\n",
    "        - api_key(str): La api key de OPENAI o GROQ\n",
    "    \n",
    "    Output:\n",
    "        - archivo JSON con la información requerida de la factura.\n",
    "    \n",
    "    \"\"\"\n",
    "    \n",
    "    # Defino el LLM:\n",
    "    if model == \"1\":\n",
    "        llm = ChatOpenAI(\n",
    "            model_name=\"gpt-3.5-turbo\",\n",
    "            temperature=0,\n",
    "            openai_api_key= api_key)\n",
    "        \n",
    "    if model == \"2\":\n",
    "        llm = ChatGroq(model=\"llama3-70b-8192\",\n",
    "                       groq_api_key= api_key)\n",
    "\n",
    "    # Cargo el esquema:\n",
    "    with open(\"utils/schema.pkl\", \"rb\") as f:\n",
    "        schema = pickle.load(f)\n",
    "\n",
    "    # Cargo cadena\n",
    "    chain = create_extraction_chain(llm, schema, encoder_or_encoder_class=\"json\")\n",
    "    \n",
    "    \n",
    "    \n",
    "    # Busco las facturas en PDF en la ruta proporcionada:    \n",
    "    facturas = glob.glob(os.path.join(path, \"*.pdf\"))[:2]\n",
    "\n",
    "    # Obtengo la información requerida de cada factura:\n",
    "    if not os.path.exists(\"extracted_information\"):\n",
    "        os.makedirs(\"extracted_information\")\n",
    "    \n",
    "    barra_progreso = tqdm(total= len(facturas), desc=\"Progreso\", unit=\"archivo\")\n",
    "    \n",
    "    for path_factura in facturas:\n",
    "        file_name = path_factura.split(\"\\\\\")[1].split(\".\")[0] + \".json\"\n",
    "        extracted_information_path = \"extracted_information\\\\\"\n",
    "\n",
    "        ###################################### Limpieza texto ######################################\n",
    "        \n",
    "        texto_factura = bill_cleaner(path_factura)\n",
    "\n",
    "        ###################################### Extracción de información requerida ######################################\n",
    "        \n",
    "        informacion_factura = chain.invoke(input= texto_factura)[\"text\"][\"data\"][\"informacion_factura\"][0]\n",
    "\n",
    "        ###################################### Guardo en formato JSON la informacion ######################################\n",
    "        with open(extracted_information_path + file_name, \"w\") as json_file:\n",
    "            json.dump(informacion_factura, json_file, indent=4)\n",
    "\n",
    "        \n",
    "        barra_progreso.update(1)\n",
    "\n",
    "    barra_progreso.close()\n",
    "\n",
    "    return extracted_information_path, chain"
   ]
  },
  {
   "cell_type": "markdown",
   "id": "1676d25c-f4bc-498a-9a2d-eaf288a08d05",
   "metadata": {
    "jp-MarkdownHeadingCollapsed": true
   },
   "source": [
    "## 3.4. Función para el cálculo de la distancia de Levenshtein"
   ]
  },
  {
   "cell_type": "code",
   "execution_count": 10,
   "id": "0d80d6b8-b742-4bce-95d7-1bd2f9a3aa2f",
   "metadata": {},
   "outputs": [],
   "source": [
    "def distance(str1, str2):\n",
    "    '''\n",
    "    Función para el cálculo de la distancia de Levenshtein.\n",
    "    \n",
    "    Input:\n",
    "        - str1(str): String de la predicción.\n",
    "        - str2(str): String del test.\n",
    "    \n",
    "    Output:\n",
    "        - Distancia de Levenshtein.\n",
    "    '''\n",
    "    \n",
    "    d=dict()\n",
    "    for i in range(len(str1)+1):\n",
    "      d[i]=dict()\n",
    "      d[i][0]=i\n",
    "    for i in range(len(str2)+1):\n",
    "      d[0][i] = i\n",
    "    for i in range(1, len(str1)+1):\n",
    "      for j in range(1, len(str2)+1):\n",
    "         d[i][j] = min(d[i][j-1]+1, d[i-1][j]+1, d[i-1][j-1]+(not str1[i-1] == str2[j-1]))\n",
    "    return d[len(str1)][len(str2)]"
   ]
  },
  {
   "cell_type": "markdown",
   "id": "fc769220-df1a-4905-8652-607da07a0d35",
   "metadata": {
    "jp-MarkdownHeadingCollapsed": true
   },
   "source": [
    "## 3.5. Función para el cálculo del score"
   ]
  },
  {
   "cell_type": "code",
   "execution_count": 11,
   "id": "cdbcab00-7896-46f9-b8d0-b340c4336de8",
   "metadata": {},
   "outputs": [],
   "source": [
    "def score(json_test, json_predicho):\n",
    "    '''\n",
    "    Función para calcular el score entre dos archivos JSON, uno es de test y el otro el predicho.\n",
    "\n",
    "    Input:\n",
    "        - json_test(JSON): Archivo JSON de la factura test.\n",
    "        - json_predicho(JSON): Archivo JSON de la factura predicha.\n",
    "    \n",
    "    Output:\n",
    "        - Score entre la información test y la predicha.\n",
    "    \n",
    "    '''\n",
    "    \n",
    "    distancias = []\n",
    "    for key in list(json_test.keys()):\n",
    "        str_1 = str(json_predicho[key])\n",
    "        str_2 = str(json_test[key])\n",
    "\n",
    "        if len(str_2) == 0:\n",
    "            distancia = 0\n",
    "\n",
    "        else:\n",
    "            distancia = 1 - (distance(str_1, str_2)/len(str_2))\n",
    "            \n",
    "        distancias.append(distancia)    \n",
    "    \n",
    "    score = (1/len(json_test.keys()))*sum(distancias)\n",
    "    \n",
    "    return score    "
   ]
  },
  {
   "cell_type": "markdown",
   "id": "54b12cc8-d7e2-4fc9-9675-fda9e95bfe24",
   "metadata": {
    "jp-MarkdownHeadingCollapsed": true
   },
   "source": [
    "## 3.6. Función para el cálculo del score total"
   ]
  },
  {
   "cell_type": "code",
   "execution_count": 12,
   "id": "2fa60196-4f27-4c86-a07d-560e7b03b249",
   "metadata": {},
   "outputs": [],
   "source": [
    "def score_total(path_test, path_pred):\n",
    "    '''\n",
    "    Función que devuelve la media de los scores obtenidos para cada documento\n",
    "\n",
    "    Input:\n",
    "        - path_test(str): Ruta donde se alojan los archivos JSON test.\n",
    "        - path_pred(str): Ruta donde se alojan los archivos JSON predichos.\n",
    "    \n",
    "    Output:\n",
    "        - Media Score.\n",
    "    \n",
    "    '''\n",
    "    \n",
    "    json_predichos = glob.glob(os.path.join(path_pred, \"*.json\"))\n",
    "\n",
    "    archivos_pred = []\n",
    "    for i in json_predichos:\n",
    "        archivo = i.split(\"\\\\\")[1]\n",
    "        archivos_pred.append(archivo)\n",
    "\n",
    "    json_tests = [path_test + archivo for archivo in archivos_pred]\n",
    "\n",
    "    scores = []\n",
    "    for test, pred in zip(json_tests, json_predichos):\n",
    "        \n",
    "        with open(test, \"r\", encoding= \"utf-8\") as archivo_test:\n",
    "            factura_test = json.load(archivo_test)\n",
    "            \n",
    "        with open(pred, \"r\", encoding= \"utf-8\") as archivo_pred:\n",
    "            factura_pred = json.load(archivo_pred)\n",
    "    \n",
    "        scr = score(factura_test, factura_pred)\n",
    "        scores.append(scr)\n",
    "    \n",
    "    media = round(sum(scores)/len(scores), 3)\n",
    "    \n",
    "    return media    "
   ]
  },
  {
   "cell_type": "markdown",
   "id": "0002fa2b-bf0e-408a-b446-e03f65ee96c6",
   "metadata": {},
   "source": [
    "# 4. Proceso de extracción de información"
   ]
  },
  {
   "cell_type": "markdown",
   "id": "04b329ea-8988-4164-b2f3-071185b2454d",
   "metadata": {},
   "source": [
    "## 4.1. Inicializo variables\n",
    "\n",
    "<span style=\"font-size:larger;\">\n",
    "\n",
    "* **data_path**: Es la carperta donde se encuentran las facturas en pdf\n",
    "* **openai_api_key**: La clave de la API de OPENAI en el archivo .env\n",
    "\n",
    "Ejemplo:\n",
    "\n",
    "- <u>*Usando gpt-3.5-turbo*</u>:\n",
    "\n",
    "```\r",
    "api_key= os.getenv(\"OPENAI_API_KEY\")\n",
    "data_path = \"data/test/\"\n",
    "```\n",
    "\n",
    "- <u>*Usando LLaMa 3-70b*</u>:\n",
    "\n",
    "```\n",
    "api_key= os.getenv(\"GROQ_API_KEY\")\n",
    "data_path = \"data/test/\"\n",
    "```\n",
    "\n",
    "<br>\n",
    "\n",
    "<u>**Ejecuta la siguiente linea de código para inicializar las variables y comenzar con el proceso de extracción de información**</u>:\n",
    "\n",
    "   \n",
    "</span>"
   ]
  },
  {
   "cell_type": "code",
   "execution_count": 9,
   "id": "a557f36a-9b9c-4f67-be0d-a5a17835dea0",
   "metadata": {},
   "outputs": [
    {
     "name": "stdin",
     "output_type": "stream",
     "text": [
      "Introduce la ruta donde se encuentran las facturas de las que deseas extraer información:  data/train/\n",
      "Selecciona el modelo que deseas usar: || gpt-3.5-turbo (1) || LLaMa 3-70b(2) ||:  1\n",
      "Introduce el nombre asociado a la API key de OPENAI que aparece en tu archivo .ENV:  OPENAI_API_KEY\n"
     ]
    }
   ],
   "source": [
    "data_path, model, api_key = inicializar()"
   ]
  },
  {
   "cell_type": "markdown",
   "id": "5f2e42da-e3b4-4811-be0b-0b62f8b57d7c",
   "metadata": {},
   "source": [
    "## 4.2. Extracción de información\n",
    "\n",
    "<span style=\"font-size:larger;\">\n",
    "\n",
    "La <u>**siguiente linea de código**</u> ejecutará la función para <u>**extraer información**</u> de las facturas, creando la carpeta *extracted_information* donde se guardará la información de cada una de las faturas en formato JSON, llevando el mismo nombre de la factura correspondiente.\n",
    "\n",
    "</span>"
   ]
  },
  {
   "cell_type": "code",
   "execution_count": 12,
   "id": "1d2e7758-0369-4e42-a484-9eb243301058",
   "metadata": {},
   "outputs": [
    {
     "name": "stderr",
     "output_type": "stream",
     "text": [
      "Progreso: 100%|██████████| 2/2 [00:11<00:00,  5.70s/archivo]\n"
     ]
    }
   ],
   "source": [
    "extracted_information_path, chain = information_extractor(data_path, model, api_key)"
   ]
  },
  {
   "cell_type": "markdown",
   "id": "0ce21aa1-01f3-46ed-ab26-43c94b1e69d2",
   "metadata": {},
   "source": [
    "<span style=\"font-size:larger;\">\n",
    "\n",
    "- <u>**Prompt utilizado para obtener la información</u>**:\n",
    "\n",
    "</span>"
   ]
  },
  {
   "cell_type": "code",
   "execution_count": 19,
   "id": "7000a1c7-0812-4902-8631-17d70770c317",
   "metadata": {
    "scrolled": true
   },
   "outputs": [
    {
     "name": "stdout",
     "output_type": "stream",
     "text": [
      "(\"Your goal is to extract structured information from the user's input that \"\n",
      " 'matches the form described below. When extracting information please make '\n",
      " 'sure it matches the type information exactly. Do not add any attributes that '\n",
      " 'do not appear in the schema shown below.\\n'\n",
      " '\\n'\n",
      " '```TypeScript\\n'\n",
      " '\\n'\n",
      " 'informacion_factura: { // Informacion del recibo de la luz de una compañia '\n",
      " 'electrica de un determinado cliente\\n'\n",
      " ' nombre_cliente: string // El nombre y los apellidos del cliente\\n'\n",
      " ' dni_cliente: string // El documento de identificacion fiscal del cliente\\n'\n",
      " ' calle_cliente: string // La direccion de la calle del cliente\\n'\n",
      " ' cp_cliente: string // El codigo postal del cliente\\n'\n",
      " ' población_cliente: string // La poblacion en la que vive el cliente\\n'\n",
      " ' provincia_cliente: string // La provincia en la que vive el cliente\\n'\n",
      " ' nombre_comercializadora: string // Nombre de la comercializadora electrica\\n'\n",
      " ' cif_comercializadora: string // El codigo de identificacion fiscal de la '\n",
      " 'comercializadora electrica\\n'\n",
      " ' dirección_comercializadora: string // La direccion de la comercializadora '\n",
      " 'electrica\\n'\n",
      " ' cp_comercializadora: string // El codigo postal de la comercializadora '\n",
      " 'electrica\\n'\n",
      " ' población_comercializadora: string // La poblacion de la comercializadora '\n",
      " 'electrica\\n'\n",
      " ' provincia_comercializadora: string // La provincia de la comercializadora '\n",
      " 'electrica\\n'\n",
      " ' número_factura: string // El numero asociado a la factura\\n'\n",
      " ' inicio_periodo: string // El inicio del periodo de consumo\\n'\n",
      " ' fin_periodo: string // El fin del periodo de consumo\\n'\n",
      " ' importe_factura: string // El importe total de la factura electrica, '\n",
      " \"utilizando ',' para separar los decimales\\n\"\n",
      " ' fecha_cargo: string // La fecha de cobro del importe de la factura '\n",
      " 'electrica\\n'\n",
      " \" consumo_periodo: string // El consumo del periodo, utilizando ',' para \"\n",
      " 'separar los decimales\\n'\n",
      " ' potencia_contratada: string // La potencia contratada por el cliente, '\n",
      " \"utilizando ',' para separar los decimales\\n\"\n",
      " '}\\n'\n",
      " '```\\n'\n",
      " '\\n'\n",
      " '\\n'\n",
      " 'Please output the extracted information in JSON format. Do not output '\n",
      " 'anything except for the extracted information. Do not add any clarifying '\n",
      " 'information. Do not add any fields that are not in the schema. If the text '\n",
      " 'contains attributes that do not appear in the schema, please ignore them. '\n",
      " 'All output must be in JSON format and follow the schema specified above. '\n",
      " 'Wrap the JSON in <json> tags.\\n'\n",
      " '\\n'\n",
      " '\\n'\n",
      " '\\n'\n",
      " 'Input: DATOS DE LA FACTURA Nº factura: RQ4694566687 Referencia: '\n",
      " '943454254622/9171 Fecha emisión factura: 28/12/2014 Periodo de Facturación: '\n",
      " 'del 27/10/2014 a 26/12/2014 (60 días) Fecha de cargo: 31 de diciembre de '\n",
      " '2014 SECOM CENTRAL DE COMPRAS SOCIEDAD LIMITADA CIF B40605925 PEDRO '\n",
      " 'ITURRALDE OCHOA 11 46900 - TORRENT JERÓNIMO URIARTE IZQUIERDO Camino de '\n",
      " 'Valdemanco 10183 Torrequemada Cáceres Forma de pago: Domiciliada Potencia '\n",
      " 'Energía Descuentos Otros Impuestos IGIC reducido 22,83 € 209,19 € -X,XX € '\n",
      " '2,19 € 11,86 € 7,32 € Fecha de cargo: 31 de diciembre de 2014 IBAN: '\n",
      " 'ES31358604577471138***** CodMandato: E53456560930792913016230519 ( 3%) '\n",
      " 'Versión: 9667 IGIC normal ( 7%) 0,15 € Su pago se justifica con el '\n",
      " 'correspondiente apunte bancario (Detalle de la factura en el reverso) '\n",
      " 'Consumo en el periodo punta Consumo en el periodo valle kWh Evolución del '\n",
      " 'consumo 770 De 12h a 22h De 22h a 12h Lectura anterior 660 550 (real) 79273 '\n",
      " 'kWh XXX kWh (27-octubre -2014 ) Lectura actual 440 330 (real) 80069 kWh XXX '\n",
      " 'kWh 220 (26-diciembre -2014 ) Consumo 110 0 en el periodo 796 kWh XXX kWh '\n",
      " 'ENE FEB XX XX ConsValle Real Media ConsPunta Real XX% X,XX €/día en esta '\n",
      " 'factura X,XX €/día durante los últimos 14 meses Consumo acumulado (último '\n",
      " 'año): XXXX kWh Valle XX% REPARTO CONSUMO SECOM CENTRAL DE COMPRAS SOCIEDAD '\n",
      " 'LIMITADA Inscrita en el Registro Mercantil de VALENCIA, tomo 25676, folio '\n",
      " '72, sección 8, hoja número M -154875, inscripción 31, CIF B40605925 '\n",
      " 'Domicilio Social: PEDRO ITURRALDE OCHOA 11, 46900 - VALENCIA XXXXX '\n",
      " '-X-XX/XX/XX NXXXXXXNNNN 796 XXX INFORMACIÓN DEL CONSUMO ELÉCTRICO 253,54 € '\n",
      " 'TOTAL IMPORTE FACTURA RESUMEN DE LA FACTURA Y DATOS DE PAGO 209,19 € Importe '\n",
      " 'por energía consumida: 796 kWh x 0,262794 Eur/kWh DATOS DEL CONTRATO Titular '\n",
      " 'del contrato: JERÓNIMO URIARTE IZQUIERDO NIF: 94985339P Dirección de '\n",
      " 'suministro: Camino de Valdemanco, Torrequemada, Cáceres Número de contador: '\n",
      " '457610719 Su comercializadora: SECOM CENTRAL DE COMPRAS SOCIEDAD LIMITADA Su '\n",
      " 'distribuidora: LA SINERQUENSE SLU Referencia del contrato de acceso: '\n",
      " '441540958828 Peaje de acceso: 20A Fin de contrato de suministro: 26/12/2014 '\n",
      " '(renovación anual automática) CUPS: ES1688926818250952WNQB El destino del '\n",
      " 'importe de su factura, 253,54 euros, es el siguiente: LUZ Importe por '\n",
      " 'potencia contratada: 3,31 kW x 0,115003 Eur/kW x 60 días 22,83 € X,XX € En '\n",
      " 'dicho importe, facturación por peaje de acceso: 3,31 kW x 38,015521 Eur/kW y '\n",
      " 'año x (60/365) días 20,68 € XX,XX € 22,83 € XX,XX € En dicho importe, su '\n",
      " 'facturación por peaje de acceso ha sido: Consumo P1 796 kWh x 0,123425 '\n",
      " 'Eur/kWh 98,25 € Incentivos a las energías renovables, cogeneración y '\n",
      " 'residuos Coste de redes de transporte y distribución Otros costes regulados '\n",
      " '(incluida la anualidad del déficit) XX,XX € XX,XX € X,XX € 209,19 € SUBTOTAL '\n",
      " '232,02 € A los importes indicados en el diagrama debe añadirse, en su caso, '\n",
      " 'el importe del alquiler de los equipos de medida y control así como los '\n",
      " 'conceptos no energéticos OTROS CONCEPTOS Descuento por e-factura 209,19 Eur '\n",
      " 'x -X % DTO -X,XX € Descuento -X % x 232,02 Eur -X,XX € Impuesto electricidad '\n",
      " '( 232,02 X 5,1127 % ) 11,86 € Alquiler equipos de medida y control (60 días '\n",
      " 'x 0,036493 Eur/día) 2,19 € SUBTOTAL Importe total IGIC reducido ( 3%) 3% s/ '\n",
      " '243,88 14,05 € 246,07 € 7,32 € 0,15 € IGIC normal ( 7%) 7% s/ 2,19 TOTAL '\n",
      " 'IMPORTE FACTURA 253,54 € Precios de los términos del peaje de acceso '\n",
      " 'publicados en Orden TEC/1366/2018 Precio del alquiler de los equipos de '\n",
      " 'medida y control en Orden IET 1491/2013 de 3 de agosto Los precios de la '\n",
      " 'energía de esta tarifa se han actualizado el 01/01/20XX trasladando las '\n",
      " 'variaciones reguladas en la Orden TEC/1366/2018 de 20 de diciembre, en la '\n",
      " 'Orden IET/2013/2013 de 31 de octubre y en la Resolución de 6 de noviembre de '\n",
      " '2018 de la Secretaría de Estado de Energía Con esta tarifa se beneficia de '\n",
      " 'un descuento permanente y le recordamos que, si más de un 50% del consumo lo '\n",
      " 'realiza en horas valle (22-12h en invierno y 23-13h en verano), tendrá un '\n",
      " 'descuento adicional, además de ayudar a proteger el medio ambiente Para más '\n",
      " 'información puede llamar al servicio de atención al cliente o consultar '\n",
      " 'nuestra web 900 649 471 (tlf gratuito) wwwsecomenergyes '\n",
      " 'atencionalcliente@secomenergyes Reclamaciones PEDRO ITURRALDE OCHOA 11, '\n",
      " '46900 - VALENCIA Urgencias 900 373 884 (tlf gratuito) Para reclamaciones '\n",
      " 'sobre el contrato de suministro o facturaciones podrá dirigirse a: '\n",
      " 'Consejería de Empleo, Industria y Comercio de la Comunidad Autónoma de '\n",
      " 'Canarias en el teléfono: 928 XXX XXX o a través de su página web '\n",
      " 'http://wwwgobcanes/ceic/energia ATENCIÓN AL CLIENTE: CONSULTAS, GESTIONES Y '\n",
      " 'RECLAMACIONES 24 HORAS INFORMACIÓN DE SU PRODUCTO Costes Regulados Coste de '\n",
      " 'producción de electricidad Impuestos aplicados DESTINO DEL IMPORTE DE LA '\n",
      " 'FACTURA DETALLE DE LA FACTURA Producto contratado: PVPC sin discriminación '\n",
      " 'horaria Potencia contratada: 3,310 kW Referencia del contrato: 7077277260628 '\n",
      " 'INFORMACIÓN SOBRE SU ELECTRICIDAD Fuente: CNMC (Comisión Nacional de los '\n",
      " 'Mercados y Competencia), http://gdocnmces/CNE/resumenGdodo? XXXXX '\n",
      " '-X-XX/XX/XX NXXXXXXNNNN El impacto ambiental de su electricidad depende de '\n",
      " 'las fuentes energéticas utilizadas para su generación En una escala de A a G '\n",
      " 'donde A indica el mínimo impacto ambiental y G el máximo, y que el valor '\n",
      " 'medio nacional corresponde al nivel D, la energía comercializada por SECOM '\n",
      " 'CENTRAL DE COMPRAS SOCIEDAD LIMITADA tiene los siguientes valores: IMPACTO '\n",
      " 'MEDIOAMBIENTAL ORIGEN DE LA ELECTRICIDAD Si bien la energía eléctrica que '\n",
      " 'llega a nuestros hogares es indistinguible de la que consumen nuestros '\n",
      " 'vecinos u otros consumidores conectados al mismo sistema eléctrico, ahora sí '\n",
      " 'es posible garantizar el origen de la producción de energía eléctrica que '\n",
      " 'usted consume A estos efectos se proporciona el desglose de la mezcla de '\n",
      " 'tecnologías de producción nacional para así comparar los porcentajes del '\n",
      " 'promedio nacional con los correspondientes a la energía vendida por su '\n",
      " 'Compañía Comercializadora\\n'\n",
      " 'Output: <json>{\"informacion_factura\": [{\"nombre_cliente\": \"JERÓNIMO URIARTE '\n",
      " 'IZQUIERDO\", \"dni_cliente\": \"94985339P\", \"calle_cliente\": \"Camino de '\n",
      " 'Valdemanco\", \"cp_cliente\": \"10183\", \"población_cliente\": \"Torrequemada\", '\n",
      " '\"provincia_cliente\": \"Cáceres\", \"nombre_comercializadora\": \"SECOM CENTRAL DE '\n",
      " 'COMPRAS SOCIEDAD LIMITADA\", \"cif_comercializadora\": \"B40605925\", '\n",
      " '\"dirección_comercializadora\": \"PEDRO ITURRALDE OCHOA 11\", '\n",
      " '\"cp_comercializadora\": \"46900\", \"población_comercializadora\": \"TORRENT\", '\n",
      " '\"provincia_comercializadora\": \"VALENCIA\", \"número_factura\": \"RQ4694566687\", '\n",
      " '\"inicio_periodo\": \"27.10.2014\", \"fin_periodo\": \"26.12.2014\", '\n",
      " '\"importe_factura\": \"253,54\", \"fecha_cargo\": \"31.12.2014\", \"consumo_periodo\": '\n",
      " '\"796\", \"potencia_contratada\": \"3,310\"}]}</json>\\n'\n",
      " 'Input: [user input]\\n'\n",
      " 'Output:')\n"
     ]
    }
   ],
   "source": [
    "pprint.pp(chain.prompt.format_prompt(text=\"[user input]\").to_string())"
   ]
  },
  {
   "cell_type": "markdown",
   "id": "e88b6472-550f-485f-820b-e7bb24e5b103",
   "metadata": {},
   "source": [
    "# 5. Comprobación de resultados\n",
    "<span style=\"font-size:larger;\">\n",
    "Los resultados se han comprobado mediante una media de una métrica basada en la distancia de Levenshtein de todos los campos de todos los documentos, y se expresará en porcentaje.\n",
    "\n",
    "Se requieren los siguientes campos para comprobar el score obtenido:\n",
    "\n",
    "* **data_path**: Es la carperta donde se encuentran los archivos JSON de las facturas test\n",
    "* **extracted_information_path**: Es la carperta donde se encuentran los archivos JSON de las facturas predichas\n",
    "</span>"
   ]
  },
  {
   "cell_type": "code",
   "execution_count": 43,
   "id": "6ca521b6-9017-4c72-aa26-832b90cf4ac9",
   "metadata": {},
   "outputs": [
    {
     "data": {
      "text/plain": [
       "0.935"
      ]
     },
     "execution_count": 43,
     "metadata": {},
     "output_type": "execute_result"
    }
   ],
   "source": [
    "score_total(data_path, extracted_information_path)"
   ]
  }
 ],
 "metadata": {
  "kernelspec": {
   "display_name": "Python 3 (ipykernel)",
   "language": "python",
   "name": "python3"
  },
  "language_info": {
   "codemirror_mode": {
    "name": "ipython",
    "version": 3
   },
   "file_extension": ".py",
   "mimetype": "text/x-python",
   "name": "python",
   "nbconvert_exporter": "python",
   "pygments_lexer": "ipython3",
   "version": "3.11.5"
  }
 },
 "nbformat": 4,
 "nbformat_minor": 5
}
