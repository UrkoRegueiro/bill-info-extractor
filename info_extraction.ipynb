{
 "cells": [
  {
   "cell_type": "markdown",
   "id": "c190afa5-100c-4522-b14d-830cd42d5285",
   "metadata": {},
   "source": [
    "## Importo paquetes:"
   ]
  },
  {
   "cell_type": "code",
   "execution_count": 10,
   "id": "b009712d-618a-47c4-b8c7-241219507f93",
   "metadata": {},
   "outputs": [],
   "source": [
    "import pandas as pd\n",
    "import json\n",
    "import os\n",
    "import glob\n",
    "from pypdf import PdfReader\n",
    "import re\n",
    "import tqdm\n",
    "import pickle\n",
    "from tqdm import tqdm\n",
    "\n",
    "from langchain.chat_models import ChatOpenAI\n",
    "\n",
    "from typing import List, Optional\n",
    "from kor.extraction import create_extraction_chain\n",
    "from kor.nodes import Object, Text\n",
    "\n",
    "from dotenv import load_dotenv"
   ]
  },
  {
   "cell_type": "code",
   "execution_count": 2,
   "id": "4292aabb-6940-4212-9511-d273c1a11f4e",
   "metadata": {},
   "outputs": [
    {
     "data": {
      "text/plain": [
       "True"
      ]
     },
     "execution_count": 2,
     "metadata": {},
     "output_type": "execute_result"
    }
   ],
   "source": [
    "load_dotenv()"
   ]
  },
  {
   "cell_type": "markdown",
   "id": "dbacdd5a-c46e-4e17-bb73-ae31e09f62f1",
   "metadata": {},
   "source": [
    "## Funciones"
   ]
  },
  {
   "cell_type": "code",
   "execution_count": 43,
   "id": "463eff8d-7759-4d85-bd6f-904a25332357",
   "metadata": {},
   "outputs": [],
   "source": [
    "def bill_cleaner(path):\n",
    "\n",
    "    \"\"\"\n",
    "    Función que devuelve el texto procesado de una factura.\n",
    "\n",
    "    Input:\n",
    "        - path(str): Ruta de la factura.pdf\n",
    "    \n",
    "    Output:\n",
    "        - texto_limpio (str)\n",
    "    \n",
    "    \"\"\"\n",
    "\n",
    "    factura = PdfReader(path)\n",
    "    \n",
    "    texto_factura = \"\"\n",
    "    for pagina in factura.pages:\n",
    "        texto_factura += pagina.extract_text()\n",
    "    \n",
    "    # Elimino saltos de linea\n",
    "    texto_limpio = re.sub(r\"\\s+\", \" \", texto_factura).strip()\n",
    "    \n",
    "    # Elimino puntos\n",
    "    texto_limpio = re.sub(r\"\\.+\", \"\", texto_limpio)\n",
    "    \n",
    "    # Elimino espacios multiples\n",
    "    texto_limpio = re.sub(r\"\\s+\", \" \", texto_limpio)\n",
    "\n",
    "    return texto_limpio"
   ]
  },
  {
   "cell_type": "code",
   "execution_count": 44,
   "id": "fd7ec5f7-d10f-4eb0-a0c2-cef0a305fe0c",
   "metadata": {},
   "outputs": [],
   "source": [
    "def information_extractor(path, openai_api_key):\n",
    "\n",
    "    \"\"\"\n",
    "    Función que extrae la información requerida de una factura de luz guardandola en formato JSON.\n",
    "\n",
    "    Input:\n",
    "        - path(str): Ruta donde se alojan las factura en formato PDF\n",
    "        - openai_api_key(str): La api key de OPENAI\n",
    "    \n",
    "    Output:\n",
    "        - archivo JSON con la información requerida de la factura.\n",
    "    \n",
    "    \"\"\"\n",
    "    \n",
    "\n",
    "    # Defino el LLM:\n",
    "    llm = ChatOpenAI(\n",
    "    model_name=\"gpt-3.5-turbo\",\n",
    "    temperature=0,\n",
    "    openai_api_key= openai_api_key)\n",
    "\n",
    "    # Cargo el esquema:\n",
    "    with open(\"utils/schema.pkl\", \"rb\") as f:\n",
    "        schema = pickle.load(f)\n",
    "\n",
    "    # Cargo cadena\n",
    "    chain = create_extraction_chain(llm, schema, encoder_or_encoder_class=\"json\")\n",
    "    \n",
    "    \n",
    "    \n",
    "    # Busco las facturas en PDF en la ruta proporcionada:\n",
    "    \n",
    "    facturas = glob.glob(os.path.join(path, \"*.pdf\"))\n",
    "\n",
    "    # Obtengo la información requerida de cada factura:\n",
    "    \n",
    "    if not os.path.exists(\"extracted_information\"):\n",
    "        os.makedirs(\"extracted_information\")\n",
    "    \n",
    "    barra_progreso = tqdm(total= len(facturas), desc=\"Progreso\", unit=\"archivo\")\n",
    "    \n",
    "    for path_factura in facturas:\n",
    "        file_name = path_factura.split(\"\\\\\")[1].split(\".\")[0] + \".json\"\n",
    "        information_path = \"extracted_information\\\\\"\n",
    "\n",
    "        ###################################### Limpieza texto ######################################\n",
    "        \n",
    "        texto_factura = bill_cleaner(path_factura)\n",
    "\n",
    "        ###################################### Extracción de información requerida ######################################\n",
    "        \n",
    "        informacion_factura = chain.invoke(input= texto_factura)[\"text\"][\"data\"][\"informacion_factura\"][0]\n",
    "\n",
    "        ###################################### Guardo en formato JSON la informacion ######################################\n",
    "        with open(information_path + file_name, \"w\") as json_file:\n",
    "            json.dump(informacion_factura, json_file, indent=4)\n",
    "\n",
    "        \n",
    "        barra_progreso.update(1)\n",
    "\n",
    "    barra_progreso.close()"
   ]
  },
  {
   "cell_type": "markdown",
   "id": "04b329ea-8988-4164-b2f3-071185b2454d",
   "metadata": {},
   "source": [
    "# Inicializo variables principales:\n",
    "\n",
    "- data_path: Es la carperta donde se encuentran las facturas en pdf\n",
    "- openai_api_key: La clave de la API de OPENAI en el archivo .env"
   ]
  },
  {
   "cell_type": "code",
   "execution_count": 45,
   "id": "a557f36a-9b9c-4f67-be0d-a5a17835dea0",
   "metadata": {},
   "outputs": [],
   "source": [
    "openai_api_key= os.getenv(\"OPENAI_API_KEY\")\n",
    "data_path = \"data/\""
   ]
  },
  {
   "cell_type": "markdown",
   "id": "5f2e42da-e3b4-4811-be0b-0b62f8b57d7c",
   "metadata": {},
   "source": [
    "# Extraigo información de las facturas"
   ]
  },
  {
   "cell_type": "code",
   "execution_count": 25,
   "id": "1d2e7758-0369-4e42-a484-9eb243301058",
   "metadata": {},
   "outputs": [
    {
     "name": "stderr",
     "output_type": "stream",
     "text": [
      "\n",
      "Progreso: 100%|██████████| 5/5 [06:24<00:00, 76.94s/archivo]\n",
      "\n",
      "Progreso:  20%|██        | 1/5 [00:07<00:28,  7.16s/archivo]\u001b[A\n",
      "Progreso:  40%|████      | 2/5 [00:13<00:19,  6.46s/archivo]\u001b[A\n",
      "Progreso:  60%|██████    | 3/5 [00:19<00:12,  6.31s/archivo]\u001b[A\n",
      "Progreso:  80%|████████  | 4/5 [00:25<00:06,  6.47s/archivo]\u001b[A\n",
      "Progreso: 100%|██████████| 5/5 [00:31<00:00,  6.35s/archivo]\u001b[A\n"
     ]
    }
   ],
   "source": [
    "information_extractor(data_path, openai_api_key)"
   ]
  },
  {
   "cell_type": "markdown",
   "id": "40d9d0f6-08fc-425b-9011-01c64d34dd5a",
   "metadata": {},
   "source": [
    "## Compruebo"
   ]
  },
  {
   "cell_type": "code",
   "execution_count": 21,
   "id": "7e9e7947-711b-43fb-8649-bc74e92b8af3",
   "metadata": {},
   "outputs": [],
   "source": [
    "data_path = \"data\\\\\"\n",
    "extracted_info_path = \"extracted_information\\\\\"\n",
    "data = pd.read_csv(data_path + \"df_finetuning.csv\")"
   ]
  },
  {
   "cell_type": "code",
   "execution_count": 32,
   "id": "5849156d-0517-476c-bc0b-6814eddaccca",
   "metadata": {},
   "outputs": [
    {
     "data": {
      "text/plain": [
       "{'nombre_cliente': 'Hera Alcocer Zuleta',\n",
       " 'dni_cliente': '72165903E',\n",
       " 'calle_cliente': 'Calle de la Amapola',\n",
       " 'cp_cliente': '19276',\n",
       " 'población_cliente': 'Hijes',\n",
       " 'provincia_cliente': 'Guadalajara',\n",
       " 'nombre_comercializadora': 'IE2 INNOVACION, S.L.U.',\n",
       " 'cif_comercializadora': 'B39829197',\n",
       " 'dirección_comercializadora': 'C/ ISABEL TORRES, Nº25',\n",
       " 'cp_comercializadora': '39011',\n",
       " 'población_comercializadora': 'SANTANDER',\n",
       " 'provincia_comercializadora': 'Cantabria',\n",
       " 'número_factura': 'TO1016699250',\n",
       " 'inicio_periodo': '18.10.2008',\n",
       " 'fin_periodo': '17.11.2008',\n",
       " 'importe_factura': '82,43',\n",
       " 'fecha_cargo': '22.11.2008',\n",
       " 'consumo_periodo': 256,\n",
       " 'potencia_contratada': '4,565'}"
      ]
     },
     "execution_count": 32,
     "metadata": {},
     "output_type": "execute_result"
    }
   ],
   "source": [
    "factura_0 = data.loc[100].output.replace(\"'\", '\"')\n",
    "json.loads(factura_0)"
   ]
  },
  {
   "cell_type": "code",
   "execution_count": 33,
   "id": "4de0a27c-74b1-4bf8-ab52-15da01ce60f5",
   "metadata": {},
   "outputs": [],
   "source": [
    "with open(extracted_info_path + f\"factura_{100}.json\", \"r\", encoding= \"utf-8\") as archivo:\n",
    "        factura_0_test = json.load(archivo)"
   ]
  },
  {
   "cell_type": "code",
   "execution_count": 34,
   "id": "1d962ab4-3146-4e99-9e9e-e0e25e7ac328",
   "metadata": {},
   "outputs": [
    {
     "data": {
      "text/plain": [
       "{'nombre_cliente': 'Hera Alcocer Zuleta',\n",
       " 'dni_cliente': '72165903E',\n",
       " 'calle_cliente': 'Calle de la Amapola',\n",
       " 'cp_cliente': '19276',\n",
       " 'población_cliente': 'Hijes',\n",
       " 'provincia_cliente': 'Guadalajara',\n",
       " 'nombre_comercializadora': 'IE2 INNOVACION, SLU',\n",
       " 'cif_comercializadora': 'B39829197',\n",
       " 'dirección_comercializadora': 'C/ ISABEL TORRES, Nº25',\n",
       " 'cp_comercializadora': '39011',\n",
       " 'población_comercializadora': 'SANTANDER',\n",
       " 'provincia_comercializadora': 'Cantabria',\n",
       " 'número_factura': 'TO1016699250',\n",
       " 'inicio_periodo': '18.10.2008',\n",
       " 'fin_periodo': '17.11.2008',\n",
       " 'importe_factura': '82,43',\n",
       " 'fecha_cargo': '22.11.2008',\n",
       " 'consumo_periodo': '256',\n",
       " 'potencia_contratada': '4,565'}"
      ]
     },
     "execution_count": 34,
     "metadata": {},
     "output_type": "execute_result"
    }
   ],
   "source": [
    "factura_0_test"
   ]
  }
 ],
 "metadata": {
  "kernelspec": {
   "display_name": "Python 3 (ipykernel)",
   "language": "python",
   "name": "python3"
  },
  "language_info": {
   "codemirror_mode": {
    "name": "ipython",
    "version": 3
   },
   "file_extension": ".py",
   "mimetype": "text/x-python",
   "name": "python",
   "nbconvert_exporter": "python",
   "pygments_lexer": "ipython3",
   "version": "3.11.5"
  }
 },
 "nbformat": 4,
 "nbformat_minor": 5
}
