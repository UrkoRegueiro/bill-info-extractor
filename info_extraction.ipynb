{
 "cells": [
  {
   "cell_type": "markdown",
   "id": "4d08d9de-4d58-4547-b2dc-5ef1e1bf92c8",
   "metadata": {},
   "source": [
    "<div style=\"position: relative; text-align: center;\">\n",
    "  <img src=\"imagenes/portada.png\" alt=\"INE\" width=\"50%\">\n",
    "</div> <br><br>\n",
    "\n",
    "\n",
    "<p style=\"text-align: center; font-size: 20px;\"><u>ÍNDICE</u></p>\n",
    "\n",
    "<span style=\"font-size: 20px;\">\n",
    "\n",
    "1. **Introducción**\n",
    "\n",
    "2. **Importación de paquetes**<br>\n",
    "\n",
    "3. **Funciones**<br>\n",
    "&nbsp;&nbsp;&nbsp;&nbsp;&nbsp;&nbsp;&nbsp;3.1. Función de limpieza<br>\n",
    "&nbsp;&nbsp;&nbsp;&nbsp;&nbsp;&nbsp;&nbsp;3.2. Funcion de inicialización<br>\n",
    "&nbsp;&nbsp;&nbsp;&nbsp;&nbsp;&nbsp;&nbsp;3.3. Función de extracción de información<br>\n",
    "\n",
    "5.  **Proceso de extracción de información**<br>\n",
    "&nbsp;&nbsp;&nbsp;&nbsp;&nbsp;&nbsp;&nbsp;4.1. Inicializo variables<br>\n",
    "&nbsp;&nbsp;&nbsp;&nbsp;&nbsp;&nbsp;&nbsp;4.2. Extracción de información<br>\n",
    "\n",
    "6. **Comprobación de resultados**<br>\n",
    "\n",
    "</span>"
   ]
  },
  {
   "cell_type": "markdown",
   "id": "ec0fc9ef-8b08-4f4e-8b0b-16dcbc98761f",
   "metadata": {},
   "source": [
    "# 1. Introducción"
   ]
  },
  {
   "cell_type": "code",
   "execution_count": null,
   "id": "0d427485-2ca6-4c5b-a27b-f421e6f4c5e2",
   "metadata": {},
   "outputs": [],
   "source": []
  },
  {
   "cell_type": "markdown",
   "id": "c190afa5-100c-4522-b14d-830cd42d5285",
   "metadata": {},
   "source": [
    "# 2. Importación de paquetes"
   ]
  },
  {
   "cell_type": "code",
   "execution_count": 1,
   "id": "b009712d-618a-47c4-b8c7-241219507f93",
   "metadata": {},
   "outputs": [],
   "source": [
    "import os\n",
    "import glob\n",
    "import json\n",
    "import pickle\n",
    "from tqdm import tqdm\n",
    "\n",
    "import pandas as pd\n",
    "\n",
    "import re\n",
    "from pypdf import PdfReader\n",
    "from langchain.chat_models import ChatOpenAI\n",
    "from langchain_groq import ChatGroq\n",
    "from typing import List, Optional\n",
    "from kor.extraction import create_extraction_chain\n",
    "from kor.nodes import Object, Text\n",
    "\n",
    "from dotenv import load_dotenv"
   ]
  },
  {
   "cell_type": "code",
   "execution_count": 2,
   "id": "4292aabb-6940-4212-9511-d273c1a11f4e",
   "metadata": {},
   "outputs": [
    {
     "data": {
      "text/plain": [
       "True"
      ]
     },
     "execution_count": 2,
     "metadata": {},
     "output_type": "execute_result"
    }
   ],
   "source": [
    "load_dotenv()"
   ]
  },
  {
   "cell_type": "markdown",
   "id": "ca9bcd6b-88b2-41b5-8382-abd0bdc531cc",
   "metadata": {},
   "source": [
    "# 3. Funciones"
   ]
  },
  {
   "cell_type": "markdown",
   "id": "7b7fd700-107e-48cc-a63c-e12da9b2ebe6",
   "metadata": {},
   "source": [
    "## 3.1. Función de limpieza"
   ]
  },
  {
   "cell_type": "code",
   "execution_count": 3,
   "id": "463eff8d-7759-4d85-bd6f-904a25332357",
   "metadata": {},
   "outputs": [],
   "source": [
    "def bill_cleaner(path):\n",
    "\n",
    "    \"\"\"\n",
    "    Función que devuelve el texto procesado de una factura.\n",
    "\n",
    "    Input:\n",
    "        - path(str): Ruta de la factura.pdf\n",
    "    \n",
    "    Output:\n",
    "        - texto_limpio (str)\n",
    "    \n",
    "    \"\"\"\n",
    "\n",
    "    factura = PdfReader(path)\n",
    "    \n",
    "    texto_factura = \"\"\n",
    "    for pagina in factura.pages:\n",
    "        texto_factura += pagina.extract_text()\n",
    "    \n",
    "    # Elimino saltos de linea\n",
    "    texto_limpio = re.sub(r\"\\s+\", \" \", texto_factura).strip()\n",
    "    \n",
    "    # Elimino puntos\n",
    "    texto_limpio = re.sub(r\"\\.+\", \"\", texto_limpio)\n",
    "    \n",
    "    # Elimino espacios multiples\n",
    "    texto_limpio = re.sub(r\"\\s+\", \" \", texto_limpio)\n",
    "\n",
    "    return texto_limpio"
   ]
  },
  {
   "cell_type": "markdown",
   "id": "1b950551-3bbf-45f0-aa6b-8e48f48a68f7",
   "metadata": {},
   "source": [
    "## 3.2. Funcion de inicialización"
   ]
  },
  {
   "cell_type": "code",
   "execution_count": 4,
   "id": "477d7f8f-b2f0-478c-8376-97b77d075c3a",
   "metadata": {},
   "outputs": [],
   "source": [
    "def inicializar():\n",
    "\n",
    "    data_path = input(\"Introduce la ruta donde se encuentran las facturas de las que deseas extraer información: \")\n",
    "\n",
    "    model = input(\"Selecciona OPENAI(1) o LLaMa(2): \")\n",
    "\n",
    "    if model == \"1\":\n",
    "        nombre = input(\"Introduce el nombre asociado a la API key de OPENAI que aparece en tu archivo .ENV: \")\n",
    "        api_key = os.getenv(nombre)\n",
    "    if model == \"2\":\n",
    "        nombre = input(\"Introduce el nombre asociado a la API key de GROQ que aparece en tu archivo .ENV: \")\n",
    "        api_key = os.getenv(nombre)\n",
    "\n",
    "    return data_path, model, api_key"
   ]
  },
  {
   "cell_type": "markdown",
   "id": "d12b5f9c-ab1d-4ab4-9d5e-891733daa5f0",
   "metadata": {},
   "source": [
    "## 3.3. Función de extracción de información"
   ]
  },
  {
   "cell_type": "code",
   "execution_count": 25,
   "id": "fd7ec5f7-d10f-4eb0-a0c2-cef0a305fe0c",
   "metadata": {},
   "outputs": [],
   "source": [
    "def information_extractor(path, model, api_key):\n",
    "\n",
    "    \"\"\"\n",
    "    Función que extrae la información requerida de una factura de luz guardandola en formato JSON.\n",
    "\n",
    "    Input:\n",
    "        - path(str): Ruta donde se alojan las factura en formato PDF\n",
    "        - api_key(str): La api key de OPENAI o GROQ\n",
    "    \n",
    "    Output:\n",
    "        - archivo JSON con la información requerida de la factura.\n",
    "    \n",
    "    \"\"\"\n",
    "    \n",
    "    # Defino el LLM:\n",
    "    if model == \"1\":\n",
    "        llm = ChatOpenAI(\n",
    "            model_name=\"gpt-3.5-turbo\",\n",
    "            temperature=0,\n",
    "            openai_api_key= api_key)\n",
    "        \n",
    "    if model == \"2\":\n",
    "        llm = ChatGroq(model=\"llama3-70b-8192\",\n",
    "                       groq_api_key= api_key)   \n",
    "\n",
    "\n",
    "    # Cargo el esquema:\n",
    "    with open(\"utils/schema.pkl\", \"rb\") as f:\n",
    "        schema = pickle.load(f)\n",
    "\n",
    "    # Cargo cadena\n",
    "    chain = create_extraction_chain(llm, schema, encoder_or_encoder_class=\"json\")\n",
    "    \n",
    "    \n",
    "    \n",
    "    # Busco las facturas en PDF en la ruta proporcionada:\n",
    "    \n",
    "    facturas = glob.glob(os.path.join(path, \"*.pdf\"))[710:715]\n",
    "\n",
    "    # Obtengo la información requerida de cada factura:\n",
    "    \n",
    "    if not os.path.exists(\"extracted_information\"):\n",
    "        os.makedirs(\"extracted_information\")\n",
    "    \n",
    "    barra_progreso = tqdm(total= len(facturas), desc=\"Progreso\", unit=\"archivo\")\n",
    "    \n",
    "    for path_factura in facturas:\n",
    "        file_name = path_factura.split(\"\\\\\")[1].split(\".\")[0] + \".json\"\n",
    "        information_path = \"extracted_information\\\\\"\n",
    "\n",
    "        ###################################### Limpieza texto ######################################\n",
    "        \n",
    "        texto_factura = bill_cleaner(path_factura)\n",
    "\n",
    "        ###################################### Extracción de información requerida ######################################\n",
    "        \n",
    "        informacion_factura = chain.invoke(input= texto_factura)[\"text\"][\"data\"][\"informacion_factura\"][0]\n",
    "\n",
    "        ###################################### Guardo en formato JSON la informacion ######################################\n",
    "        with open(information_path + file_name, \"w\") as json_file:\n",
    "            json.dump(informacion_factura, json_file, indent=4)\n",
    "\n",
    "        \n",
    "        barra_progreso.update(1)\n",
    "\n",
    "    barra_progreso.close()"
   ]
  },
  {
   "cell_type": "markdown",
   "id": "0002fa2b-bf0e-408a-b446-e03f65ee96c6",
   "metadata": {},
   "source": [
    "# 4. Proceso de extracción de información"
   ]
  },
  {
   "cell_type": "markdown",
   "id": "04b329ea-8988-4164-b2f3-071185b2454d",
   "metadata": {},
   "source": [
    "## 4.1. Inicializo variables\n",
    "\n",
    "<span style=\"font-size:larger;\">\n",
    "\n",
    "* **data_path**: Es la carperta donde se encuentran las facturas en pdf\n",
    "* **openai_api_key**: La clave de la API de OPENAI en el archivo .env\n",
    "\n",
    "Ejemplo:\n",
    "\n",
    "- <u>*Usando gpt-3.5-turbo*</u>:\n",
    "\n",
    "```\r",
    "api_key= os.getenv(\"OPENAI_API_KEY\")\n",
    "data_path = \"data/\"\n",
    "```\n",
    "\n",
    "- <u>*Usando LLaMa 3-70b*</u>:\n",
    "\n",
    "```\n",
    "api_key= os.getenv(\"GROQ_API_KEY\")\n",
    "data_path = \"data/\"\n",
    "```\n",
    "\n",
    "<br>\n",
    "\n",
    "<u>**Ejecuta la siguiente linea de código para inicializar las variables y comenzar con el proceso de extracción de información**</u>:\n",
    "\n",
    "   \n",
    "</span>"
   ]
  },
  {
   "cell_type": "code",
   "execution_count": 18,
   "id": "a557f36a-9b9c-4f67-be0d-a5a17835dea0",
   "metadata": {},
   "outputs": [
    {
     "name": "stdin",
     "output_type": "stream",
     "text": [
      "Introduce la ruta donde se encuentran las facturas de las que deseas extraer información:  data/\n",
      "Selecciona OPENAI(1) o LLaMa(2):  1\n",
      "Introduce el nombre asociado a la API key de OPENAI que aparece en tu archivo .ENV:  OPENAI_API_KEY\n"
     ]
    }
   ],
   "source": [
    "data_path, model, api_key = inicializar()"
   ]
  },
  {
   "cell_type": "markdown",
   "id": "5f2e42da-e3b4-4811-be0b-0b62f8b57d7c",
   "metadata": {},
   "source": [
    "## 4.2. Extracción de información\n",
    "\n",
    "<span style=\"font-size:larger;\">\n",
    "\n",
    "La <u>**siguiente linea de código**</u> ejecutará la función para <u>**extraer información**</u> de las facturas, creando la carpeta *extracted_information* donde se guardará la información de cada una de las faturas en formato JSON, llevando el mismo nombre de la factura correspondiente.\n",
    "\n",
    "</span>"
   ]
  },
  {
   "cell_type": "code",
   "execution_count": 21,
   "id": "1d2e7758-0369-4e42-a484-9eb243301058",
   "metadata": {},
   "outputs": [
    {
     "name": "stderr",
     "output_type": "stream",
     "text": [
      "Progreso: 100%|██████████| 5/5 [00:23<00:00,  4.77s/archivo]\n"
     ]
    }
   ],
   "source": [
    "information_extractor(data_path, model, api_key)"
   ]
  },
  {
   "cell_type": "markdown",
   "id": "40d9d0f6-08fc-425b-9011-01c64d34dd5a",
   "metadata": {},
   "source": [
    "# 5. Comprobación de resultados"
   ]
  },
  {
   "cell_type": "code",
   "execution_count": 10,
   "id": "7e9e7947-711b-43fb-8649-bc74e92b8af3",
   "metadata": {},
   "outputs": [],
   "source": [
    "extracted_info_path = \"extracted_information\\\\\"\n",
    "data = pd.read_csv(data_path + \"df_finetuning.csv\")"
   ]
  },
  {
   "cell_type": "code",
   "execution_count": 32,
   "id": "5849156d-0517-476c-bc0b-6814eddaccca",
   "metadata": {},
   "outputs": [
    {
     "data": {
      "text/plain": [
       "{'nombre_cliente': 'ANÍBAL VILLAR BAÑOS',\n",
       " 'dni_cliente': '98523853H',\n",
       " 'calle_cliente': 'Camino de Cerro Mesa',\n",
       " 'cp_cliente': '43364',\n",
       " 'población_cliente': 'Mont-ral',\n",
       " 'provincia_cliente': 'Tarragona',\n",
       " 'nombre_comercializadora': 'HEFAMECOM, S.A.',\n",
       " 'cif_comercializadora': 'A73027930',\n",
       " 'dirección_comercializadora': 'CARRETERA DE ABANILLA, KM. 158',\n",
       " 'cp_comercializadora': '30140',\n",
       " 'población_comercializadora': 'SANTOMERA',\n",
       " 'provincia_comercializadora': 'Murcia',\n",
       " 'número_factura': 'FJ8239550189',\n",
       " 'inicio_periodo': '02.10.2002',\n",
       " 'fin_periodo': '01.12.2002',\n",
       " 'importe_factura': '160,74',\n",
       " 'fecha_cargo': '06.12.2002',\n",
       " 'consumo_periodo': 520,\n",
       " 'potencia_contratada': '3,206'}"
      ]
     },
     "execution_count": 32,
     "metadata": {},
     "output_type": "execute_result"
    }
   ],
   "source": [
    "factura_0 = data.loc[741].output.replace(\"'\", '\"')\n",
    "json.loads(factura_0)"
   ]
  },
  {
   "cell_type": "code",
   "execution_count": 33,
   "id": "4de0a27c-74b1-4bf8-ab52-15da01ce60f5",
   "metadata": {},
   "outputs": [],
   "source": [
    "with open(extracted_info_path + f\"factura_{741}.json\", \"r\", encoding= \"utf-8\") as archivo:\n",
    "        factura_0_test = json.load(archivo)"
   ]
  },
  {
   "cell_type": "code",
   "execution_count": 34,
   "id": "1d962ab4-3146-4e99-9e9e-e0e25e7ac328",
   "metadata": {},
   "outputs": [
    {
     "data": {
      "text/plain": [
       "{'nombre_cliente': 'ANÍBAL VILLAR BAÑOS',\n",
       " 'dni_cliente': '98523853H',\n",
       " 'calle_cliente': 'Camino de Cerro Mesa',\n",
       " 'cp_cliente': '43364',\n",
       " 'población_cliente': 'Mont -ral',\n",
       " 'provincia_cliente': 'Tarragona',\n",
       " 'nombre_comercializadora': 'HEFAMECOM, SA',\n",
       " 'cif_comercializadora': 'A73027930',\n",
       " 'dirección_comercializadora': 'CARRETERA DE ABANILLA, KM 158',\n",
       " 'cp_comercializadora': '30140',\n",
       " 'población_comercializadora': 'Murcia',\n",
       " 'provincia_comercializadora': 'Murcia',\n",
       " 'número_factura': 'FJ8239550189',\n",
       " 'inicio_periodo': '02.10.2002',\n",
       " 'fin_periodo': '01.12.2002',\n",
       " 'importe_factura': '160,74',\n",
       " 'fecha_cargo': '06.12.2002',\n",
       " 'consumo_periodo': '520',\n",
       " 'potencia_contratada': '3,206'}"
      ]
     },
     "execution_count": 34,
     "metadata": {},
     "output_type": "execute_result"
    }
   ],
   "source": [
    "factura_0_test"
   ]
  },
  {
   "cell_type": "code",
   "execution_count": null,
   "id": "0d80d6b8-b742-4bce-95d7-1bd2f9a3aa2f",
   "metadata": {},
   "outputs": [],
   "source": []
  }
 ],
 "metadata": {
  "kernelspec": {
   "display_name": "Python 3 (ipykernel)",
   "language": "python",
   "name": "python3"
  },
  "language_info": {
   "codemirror_mode": {
    "name": "ipython",
    "version": 3
   },
   "file_extension": ".py",
   "mimetype": "text/x-python",
   "name": "python",
   "nbconvert_exporter": "python",
   "pygments_lexer": "ipython3",
   "version": "3.11.5"
  }
 },
 "nbformat": 4,
 "nbformat_minor": 5
}
